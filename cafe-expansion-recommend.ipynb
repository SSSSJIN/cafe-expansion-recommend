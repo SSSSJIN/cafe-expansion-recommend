{
 "cells": [
  {
   "cell_type": "code",
   "execution_count": 1,
   "id": "f73a77f5-4d56-48b8-b8c4-3d35c362c113",
   "metadata": {},
   "outputs": [],
   "source": [
    "!pip install fastapi uvicorn nest_asyncio numpy --quiet"
   ]
  },
  {
   "cell_type": "code",
   "execution_count": null,
   "id": "274b4c7d-2350-4805-9ed4-a08ef59c69d8",
   "metadata": {},
   "outputs": [
    {
     "name": "stderr",
     "output_type": "stream",
     "text": [
      "INFO:     Started server process [23368]\n",
      "INFO:     Waiting for application startup.\n",
      "INFO:     Application startup complete.\n",
      "INFO:     Uvicorn running on http://127.0.0.1:8000 (Press CTRL+C to quit)\n"
     ]
    },
    {
     "name": "stdout",
     "output_type": "stream",
     "text": [
      "INFO:     127.0.0.1:65012 - \"GET /docs HTTP/1.1\" 200 OK\n",
      "INFO:     127.0.0.1:65012 - \"GET /openapi.json HTTP/1.1\" 200 OK\n",
      "INFO:     127.0.0.1:65013 - \"POST /recommend HTTP/1.1\" 200 OK\n"
     ]
    }
   ],
   "source": [
    "import nest_asyncio\n",
    "from fastapi import FastAPI\n",
    "from pydantic import BaseModel\n",
    "import numpy as np\n",
    "import uvicorn\n",
    "\n",
    "# Jupyter 환경에서 event loop 충돌 방지\n",
    "nest_asyncio.apply()\n",
    "\n",
    "# FastAPI 앱 생성\n",
    "app = FastAPI()\n",
    "\n",
    "# 입력 데이터 모델 정의\n",
    "class FeatureInput(BaseModel):\n",
    "    view: float\n",
    "    rating: float\n",
    "    review: float\n",
    "    genre: float\n",
    "\n",
    "# 추천 점수 계산 함수\n",
    "def sigmoid(x):\n",
    "    return 1 / (1 + np.exp(-x))\n",
    "\n",
    "@app.post(\"/recommend\")\n",
    "def recommend(input: FeatureInput):\n",
    "    features = [input.view, input.rating, input.review, input.genre]\n",
    "    weights = [0.4, 0.3, 0.2, 0.1]\n",
    "    score = sum([f * w for f, w in zip(features, weights)])\n",
    "    prob = sigmoid(score)\n",
    "    return {\"score\": round(score, 4), \"prob\": round(prob, 4)}\n",
    "\n",
    "# 서버 실행 (Jupyter에서는 아래 코드로 실행)\n",
    "uvicorn.run(app, host=\"127.0.0.1\", port=8000)\n"
   ]
  },
  {
   "cell_type": "code",
   "execution_count": null,
   "id": "3747040c-092b-44cf-8906-280a4aaba299",
   "metadata": {},
   "outputs": [],
   "source": []
  }
 ],
 "metadata": {
  "kernelspec": {
   "display_name": "Python [conda env:base] *",
   "language": "python",
   "name": "conda-base-py"
  },
  "language_info": {
   "codemirror_mode": {
    "name": "ipython",
    "version": 3
   },
   "file_extension": ".py",
   "mimetype": "text/x-python",
   "name": "python",
   "nbconvert_exporter": "python",
   "pygments_lexer": "ipython3",
   "version": "3.12.3"
  }
 },
 "nbformat": 4,
 "nbformat_minor": 5
}
